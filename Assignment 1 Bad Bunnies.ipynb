{
 "cells": [
  {
   "cell_type": "markdown",
   "id": "08b01710-f78b-461a-81dd-4dba17164f61",
   "metadata": {},
   "source": [
    "<span style=\"color:red;font-weight: bold;font-size:40px\">Assignment 1 - Pandas, Matplotlib, and Seaborn</span>"
   ]
  },
  {
   "cell_type": "markdown",
   "id": "73e5efe6-395c-4b38-a110-e8373f41602f",
   "metadata": {},
   "source": [
    "Let's analyze 911 call data from Kaggle. The dataset includes the following fields:\n",
    "\n",
    "* lat : String variable, Latitude\n",
    "* lng: String variable, Longitude\n",
    "* desc: String variable, Description of the Emergency Call\n",
    "* zip: String variable, Zipcode\n",
    "* title: String variable, Title\n",
    "* timeStamp: String variable, YYYY-MM-DD HH:MM:SS\n",
    "* twp: String variable, Township\n",
    "* addr: String variable, Address"
   ]
  },
  {
   "cell_type": "markdown",
   "id": "1f408fc5-beb7-4549-8e9b-1a583bb6cdc6",
   "metadata": {},
   "source": [
    "a) Import numpy,pandas, matplotlib, and seaborn."
   ]
  },
  {
   "cell_type": "code",
   "execution_count": null,
   "id": "c551102b-58a1-4343-a566-82a0814115c2",
   "metadata": {},
   "outputs": [],
   "source": [
    "import pandas as pd\n",
    "import matplotlib as mp\n",
    "import seaborn as sns"
   ]
  },
  {
   "cell_type": "code",
   "execution_count": null,
   "id": "16ed47ae",
   "metadata": {},
   "outputs": [],
   "source": []
  },
  {
   "cell_type": "markdown",
   "id": "282f0b7e-7d9e-4774-abaf-23d59ff99d3f",
   "metadata": {},
   "source": [
    "b) Read the CSV file into a DataFrame."
   ]
  },
  {
   "cell_type": "code",
   "execution_count": null,
   "id": "b52d7d30-0d91-43d4-af97-23f9f762e5f4",
   "metadata": {},
   "outputs": [],
   "source": [
    "df = pd.read_csv('911.csv')"
   ]
  },
  {
   "cell_type": "code",
   "execution_count": null,
   "id": "9dfacf01-c8c2-4d62-b0ac-ee1009bf78ba",
   "metadata": {},
   "outputs": [],
   "source": []
  },
  {
   "cell_type": "markdown",
   "id": "56300771-dd3f-48fc-9e61-5f3f53959f60",
   "metadata": {},
   "source": [
    "c) Check the info() and the head()."
   ]
  },
  {
   "cell_type": "code",
   "execution_count": null,
   "id": "9d78d952-519f-42e0-ace2-5ba12478f0fc",
   "metadata": {},
   "outputs": [],
   "source": [
    "df.head()"
   ]
  },
  {
   "cell_type": "code",
   "execution_count": null,
   "id": "d7d422ce-0046-432b-a884-10233af15783",
   "metadata": {},
   "outputs": [],
   "source": [
    "df.info()"
   ]
  },
  {
   "cell_type": "markdown",
   "id": "461964d5-a692-4146-8e6c-4ecaab085076",
   "metadata": {},
   "source": [
    "# Questions and exercises"
   ]
  },
  {
   "cell_type": "markdown",
   "id": "73ffa684-eca4-4edc-aff5-631f09fbda42",
   "metadata": {},
   "source": [
    "1- What are the top 5 zipcodes for 911 calls? (5 pts)"
   ]
  },
  {
   "cell_type": "code",
   "execution_count": null,
   "id": "5f0226ff-522b-45a4-ab57-ebd858286a82",
   "metadata": {},
   "outputs": [],
   "source": []
  },
  {
   "cell_type": "code",
   "execution_count": null,
   "id": "3196a7aa-b7f8-4da6-b9fc-59da2804e374",
   "metadata": {},
   "outputs": [],
   "source": []
  },
  {
   "cell_type": "markdown",
   "id": "dbe4f66b-d2ff-4522-8231-b0a3f9301917",
   "metadata": {},
   "source": [
    "2- What are the top 5 townships (twp) for 911 calls? (5 pts)"
   ]
  },
  {
   "cell_type": "code",
   "execution_count": null,
   "id": "8ea27bba-477b-4bc5-a540-ba014fbf5592",
   "metadata": {},
   "outputs": [],
   "source": [
    "top_townships = df['twp'].value_counts().head(5)"
   ]
  },
  {
   "cell_type": "code",
   "execution_count": null,
   "id": "f44aff63-f8df-40d0-a00d-4dfe2e5740aa",
   "metadata": {},
   "outputs": [],
   "source": [
    "print(\"Top 5 townships for 911 calls: \\n\", top_townships)"
   ]
  },
  {
   "cell_type": "markdown",
   "id": "dc54991f-5305-48c4-9918-9ba4a232ef00",
   "metadata": {},
   "source": [
    "3- In the title column, the 'Reason/Department' is specified before the title code, such as EMS, Fire, and Traffic. Use the .apply() method with a custom lambda function to create a new column called Reason that extracts this value.\n",
    "\n",
    "For example, if the value in the title column is EMS: BACK PAINS/INJURY, the corresponding value in the Reason column should be EMS. (5 pts)"
   ]
  },
  {
   "cell_type": "code",
   "execution_count": null,
   "id": "8ef988fb-5e4e-4a2e-86e5-aa1b4a9960c5",
   "metadata": {},
   "outputs": [],
   "source": [
    "df['Reason'] = df['title'].apply(lambda x: x.split(':')[0])"
   ]
  },
  {
   "cell_type": "code",
   "execution_count": null,
   "id": "d5b96629-ebc3-41a1-9488-cfacf8b60b04",
   "metadata": {},
   "outputs": [],
   "source": []
  },
  {
   "cell_type": "markdown",
   "id": "8064f7aa-3e95-46d8-a900-4aa105f9651d",
   "metadata": {},
   "source": [
    "4- What is the most common reason for a 911 call based on the values in the new Reason column? (5 pts)"
   ]
  },
  {
   "cell_type": "code",
   "execution_count": null,
   "id": "bf4d0c04-aea0-4db8-b1c8-e642dcff3702",
   "metadata": {},
   "outputs": [],
   "source": [
    "most_common_reason = df['Reason'].value_counts().idxmax()\n",
    "print(f\"\\nMost Common Reason for 911 Calls: {most_common_reason}\")"
   ]
  },
  {
   "cell_type": "code",
   "execution_count": null,
   "id": "2812d564-aae3-43cc-9733-72f63dc8fc39",
   "metadata": {},
   "outputs": [],
   "source": []
  },
  {
   "cell_type": "markdown",
   "id": "88f83008-88c8-4feb-95c6-8a5b4be3577f",
   "metadata": {},
   "source": [
    "5- Create a count plot to visualize the number of 911 calls for each Reason. (5 pts)"
   ]
  },
  {
   "cell_type": "code",
   "execution_count": null,
   "id": "519bda46-cbee-4eb2-887d-b968baa0b4f2",
   "metadata": {},
   "outputs": [],
   "source": [
    "plt.figure(figsize=(10, 6))\n",
    "sns.countplot(x='Reason', data=df, palette='viridis')\n",
    "plt.title('Number of 911 Calls by Reason')\n",
    "plt.show()"
   ]
  },
  {
   "cell_type": "code",
   "execution_count": null,
   "id": "a0a45eed-c1cf-4097-9b2e-ae74af84a9c7",
   "metadata": {},
   "outputs": [],
   "source": []
  },
  {
   "cell_type": "markdown",
   "id": "b5ff6d0b-b284-4f56-85e9-3292c9a65490",
   "metadata": {},
   "source": [
    "6- Use pd.to_datetime() to convert the timeStamp column from strings to DateTime objects. (5 pts)"
   ]
  },
  {
   "cell_type": "code",
   "execution_count": null,
   "id": "5dba3854-4c7c-43e1-9098-49e569b897dd",
   "metadata": {},
   "outputs": [],
   "source": [
    "df['timeStamp'] = pd.to_datetime(df['timeStamp'])"
   ]
  },
  {
   "cell_type": "code",
   "execution_count": null,
   "id": "2dfb2839-1aac-4026-9639-d49396e5d419",
   "metadata": {},
   "outputs": [],
   "source": []
  },
  {
   "cell_type": "markdown",
   "id": "103d81b4-4d6d-4ba3-8e82-182c7a0657d2",
   "metadata": {},
   "source": [
    "7- Now that the timeStamp column has been converted to DateTime objects, you can extract specific attributes by calling them. For example: \n",
    "\n",
    "time = df['timeStamp'].iloc[0]\n",
    "time.hour\n",
    "\n",
    "You can use Jupyter's tab-completion feature to explore the various attributes available for a DateTime object.\n",
    "\n",
    "Use the .apply() method to create three new columns: Hour, Month, and Day of Week. These columns should be derived from the timeStamp column. (10 pts)"
   ]
  },
  {
   "cell_type": "code",
   "execution_count": null,
   "id": "742a4728-84fc-4419-bec1-506719b87ecf",
   "metadata": {},
   "outputs": [],
   "source": [
    "df['Hour'] = df['timeStamp'].apply(lambda time: time.hour)\n",
    "df['Month'] = df['timeStamp'].apply(lambda time: time.month)\n",
    "df['Day of Week'] = df['timeStamp'].apply(lambda time: time.dayofweek)"
   ]
  },
  {
   "cell_type": "code",
   "execution_count": null,
   "id": "9641f71b-5c54-4112-83c7-5f7b048efd91",
   "metadata": {},
   "outputs": [],
   "source": []
  },
  {
   "cell_type": "markdown",
   "id": "f6494fc2-8fa8-444f-86a4-0a84a5cb65ea",
   "metadata": {},
   "source": [
    "8- Notice that the Day of Week column contains integers ranging from 0 to 6, representing the days of the week. Use the .map() method with the following dictionary to map these integers to their corresponding day names:\n",
    "\n",
    "day_map = {0: 'Monday', 1: 'Tuesday', 2: 'Wednesday', 3: 'Thursday', 4: 'Friday', 5: 'Saturday', 6: 'Sunday'}\n",
    "\n",
    "(5 pts)"
   ]
  },
  {
   "cell_type": "code",
   "execution_count": null,
   "id": "a744efe8-6432-41cd-a9f9-9f2b99ebcbf4",
   "metadata": {},
   "outputs": [],
   "source": [
    "day_map = {0: 'Monday', 1: 'Tuesday', 2: 'Wednesday', 3: 'Thursday', 4: 'Friday', 5: 'Saturday', 6: 'Sunday'}\n",
    "df['Day of Week'] = df['Day of Week'].map(day_map)"
   ]
  },
  {
   "cell_type": "code",
   "execution_count": null,
   "id": "bcb56bc1-3c48-4e0f-80c6-5d754b7804d8",
   "metadata": {},
   "outputs": [],
   "source": []
  },
  {
   "cell_type": "markdown",
   "id": "423b45dc-e2e2-4bcd-81e5-e4336d29f188",
   "metadata": {},
   "source": [
    "9- Create a count plot of the Day of Week column, using the hue parameter to differentiate the data based on the Reason column. (5 pts)"
   ]
  },
  {
   "cell_type": "code",
   "execution_count": null,
   "id": "850fadf9-85fe-4cdb-b23d-8281cdc1390e",
   "metadata": {},
   "outputs": [],
   "source": [
    "plt.figure(figsize=(10, 6))\n",
    "sns.countplot(x='Day of Week', data=df, hue='Reason', palette='viridis')\n",
    "plt.title('Number of 911 Calls by Day of Week and Reason')\n",
    "plt.legend(bbox_to_anchor=(1.05, 1), loc=2, borderaxespad=0.)\n",
    "plt.show()"
   ]
  },
  {
   "cell_type": "code",
   "execution_count": null,
   "id": "40e6a4ec-4024-42be-b514-0dd903195953",
   "metadata": {},
   "outputs": [],
   "source": []
  },
  {
   "cell_type": "markdown",
   "id": "c843aaad-426f-4ced-ada2-67369835ae97",
   "metadata": {},
   "source": [
    "10- Create a count plot of the Month column, using the hue parameter to differentiate the data based on the Reason column. (5 pts)"
   ]
  },
  {
   "cell_type": "code",
   "execution_count": null,
   "id": "00584ef6-8e2c-4e97-bb68-e36466763002",
   "metadata": {},
   "outputs": [],
   "source": [
    "plt.figure(figsize=(10, 6))\n",
    "sns.countplot(x='Month', data=df, hue='Reason', palette='viridis')\n",
    "plt.title('Number of 911 Calls by Month and Reason')\n",
    "plt.legend(bbox_to_anchor=(1.05, 1), loc=2, borderaxespad=0.)\n",
    "plt.show()\n"
   ]
  },
  {
   "cell_type": "code",
   "execution_count": null,
   "id": "e9ebdd65-bb57-4390-825c-88f995d441b0",
   "metadata": {},
   "outputs": [],
   "source": []
  },
  {
   "cell_type": "markdown",
   "id": "34ad1df9-c0c4-4a9a-9319-2e92a6ecb3de",
   "metadata": {},
   "source": [
    "11- Create a groupby object called byMonth, grouping the DataFrame by the Month column and using the .count() method for aggregation. (5 pts)"
   ]
  },
  {
   "cell_type": "code",
   "execution_count": null,
   "id": "449e7d2e-bd88-4955-9100-28fb68216b21",
   "metadata": {},
   "outputs": [],
   "source": [
    "byMonth = df.groupby('Month').count()"
   ]
  },
  {
   "cell_type": "code",
   "execution_count": null,
   "id": "9f696a7e-dc91-4d21-ab18-da306420d3c8",
   "metadata": {},
   "outputs": [],
   "source": []
  },
  {
   "cell_type": "markdown",
   "id": "51ca7825-cb73-4314-9b1a-5a5be550b9a2",
   "metadata": {},
   "source": [
    "12- Create a simple line plot from the DataFrame to show the count of calls per month. (5 pts)"
   ]
  },
  {
   "cell_type": "code",
   "execution_count": null,
   "id": "d19a6918-a5ba-41fc-a1bc-8ee11bfabf05",
   "metadata": {},
   "outputs": [],
   "source": [
    "plt.figure(figsize=(10, 6))\n",
    "byMonth['lat'].plot()\n",
    "plt.title('Number of 911 Calls per Month')\n",
    "plt.xlabel('Month')\n",
    "plt.ylabel('Number of Calls')\n",
    "plt.show()"
   ]
  },
  {
   "cell_type": "code",
   "execution_count": null,
   "id": "4e4dade8-b7de-487f-935e-b45b3ac8a175",
   "metadata": {},
   "outputs": [],
   "source": []
  },
  {
   "cell_type": "markdown",
   "id": "30b1471d-3950-4536-b489-3c3589774312",
   "metadata": {},
   "source": [
    "13- Use Seaborn's lmplot() to create a linear fit showing the trend in the number of calls per month. You may need to reset the index of the byMonth DataFrame to convert it into a column for plotting. (5 pts)"
   ]
  },
  {
   "cell_type": "code",
   "execution_count": null,
   "id": "ae781aab-56dd-4b36-8e51-5410e0173784",
   "metadata": {},
   "outputs": [],
   "source": [
    "sns.lmplot(x='Month', y='lat', data=byMonth.reset_index())\n",
    "plt.title('Trend in Number of 911 Calls per Month')\n",
    "plt.show()"
   ]
  },
  {
   "cell_type": "code",
   "execution_count": null,
   "id": "698887bd-e707-4c87-becb-628d974aec29",
   "metadata": {},
   "outputs": [],
   "source": []
  },
  {
   "cell_type": "markdown",
   "id": "1fd72f5c-ead5-40f9-826f-f3258f7eb681",
   "metadata": {},
   "source": [
    "14- Next, we'll create heatmaps using Seaborn and our data. First, restructure the DataFrame so that:\n",
    "\n",
    "* The columns represent the Hours,\n",
    "* The index represents the Day of Week,\n",
    "* The values represent the count of calls.\n",
    "    \n",
    "You can achieve this by grouping the data using groupby and then reshaping it with the .pivot_table() method. (15 pts)"
   ]
  },
  {
   "cell_type": "code",
   "execution_count": null,
   "id": "2955a17b-27ee-44fb-b5eb-446e0a2dae69",
   "metadata": {},
   "outputs": [],
   "source": [
    "dayHour = df.groupby(['Day of Week', 'Hour']).count()['Reason'].unstack()"
   ]
  },
  {
   "cell_type": "code",
   "execution_count": null,
   "id": "143f9d56-8f8d-48b2-b7de-44849080e8f7",
   "metadata": {},
   "outputs": [],
   "source": []
  },
  {
   "cell_type": "markdown",
   "id": "aab90343-e169-4063-84af-fe03a0c13253",
   "metadata": {},
   "source": [
    "15- Create a heatmap using the newly structured DataFrame. (5 pts)"
   ]
  },
  {
   "cell_type": "code",
   "execution_count": null,
   "id": "4fc33df6-dc2e-4e8b-9c4b-961bd12796d2",
   "metadata": {},
   "outputs": [],
   "source": [
    "plt.figure(figsize=(12, 6))\n",
    "sns.heatmap(dayHour, cmap='viridis')\n",
    "plt.title('Heatmap of 911 Calls by Day of Week and Hour')\n",
    "plt.show()"
   ]
  },
  {
   "cell_type": "code",
   "execution_count": null,
   "id": "09f26f6e-ad74-4dc7-9ddd-9c940aeda733",
   "metadata": {},
   "outputs": [],
   "source": []
  },
  {
   "cell_type": "markdown",
   "id": "73b452b7-74ab-41d4-98c3-167029c8946c",
   "metadata": {},
   "source": [
    "16- Repeat steps #14 and #15, but this time structure the DataFrame so that:\n",
    "\n",
    "* The Month is set as the columns,\n",
    "* The Day of Week is set as the index,\n",
    "* The values represent the count of calls.\n",
    "\n",
    "    Then, create a heatmap using this newly structured DataFrame. (10 pts)"
   ]
  },
  {
   "cell_type": "code",
   "execution_count": null,
   "id": "997a5084-91ae-4bea-9040-4de01aa12d31",
   "metadata": {},
   "outputs": [],
   "source": [
    "dayMonth = df.groupby(['Day of Week', 'Month']).count()['Reason'].unstack()"
   ]
  },
  {
   "cell_type": "code",
   "execution_count": null,
   "id": "e21fd9da-cb1d-40d0-9237-697bf41667f6",
   "metadata": {},
   "outputs": [],
   "source": [
    "plt.figure(figsize=(12, 6))\n",
    "sns.heatmap(dayMonth, cmap='viridis')\n",
    "plt.title('Heatmap of 911 Calls by Day of Week and Month')\n",
    "plt.show()"
   ]
  }
 ],
 "metadata": {
  "kernelspec": {
   "display_name": "Python 3 (ipykernel)",
   "language": "python",
   "name": "python3"
  },
  "language_info": {
   "codemirror_mode": {
    "name": "ipython",
    "version": 3
   },
   "file_extension": ".py",
   "mimetype": "text/x-python",
   "name": "python",
   "nbconvert_exporter": "python",
   "pygments_lexer": "ipython3",
   "version": "3.12.7"
  }
 },
 "nbformat": 4,
 "nbformat_minor": 5
}
